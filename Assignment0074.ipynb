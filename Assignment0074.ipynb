{
  "nbformat": 4,
  "nbformat_minor": 0,
  "metadata": {
    "colab": {
      "name": "Untitled3.ipynb",
      "provenance": [],
      "authorship_tag": "ABX9TyOSVwq/vCPs45jjiby+fgq4",
      "include_colab_link": true
    },
    "kernelspec": {
      "name": "python3",
      "display_name": "Python 3"
    }
  },
  "cells": [
    {
      "cell_type": "markdown",
      "metadata": {
        "id": "view-in-github",
        "colab_type": "text"
      },
      "source": [
        "<a href=\"https://colab.research.google.com/github/NurulZudin/Assignment007/blob/main/Assignment0074.ipynb\" target=\"_parent\"><img src=\"https://colab.research.google.com/assets/colab-badge.svg\" alt=\"Open In Colab\"/></a>"
      ]
    },
    {
      "cell_type": "code",
      "metadata": {
        "colab": {
          "base_uri": "https://localhost:8080/"
        },
        "id": "6I8Xtfb5wjiM",
        "outputId": "2177de30-fda1-48a9-dcc5-8226b7d2cb51"
      },
      "source": [
        "number = \" \"\r\n",
        "while bool(number) > 0 :\r\n",
        "    number = input(\"Enter a number to check prime number : \")\r\n",
        "    if int(number) == 2:\r\n",
        "      print(f\"{number} is a prime number\")\r\n",
        "      break\r\n",
        "    else:\r\n",
        "      for i in range(2, int(number)):\r\n",
        "        if int(number) % i == 0 :\r\n",
        "          print(f\"{number} is not a prime number\")\r\n",
        "        else:\r\n",
        "          print(f\"{number} is a prime number\")\r\n",
        "        break\r\n",
        "      break"
      ],
      "execution_count": 8,
      "outputs": [
        {
          "output_type": "stream",
          "text": [
            "Enter a number to check prime number : 19\n",
            "19 is a prime number\n"
          ],
          "name": "stdout"
        }
      ]
    },
    {
      "cell_type": "code",
      "metadata": {
        "id": "hJTu_QBixxfl"
      },
      "source": [
        ""
      ],
      "execution_count": null,
      "outputs": []
    }
  ]
}