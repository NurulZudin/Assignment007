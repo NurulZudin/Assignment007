{
  "nbformat": 4,
  "nbformat_minor": 0,
  "metadata": {
    "colab": {
      "name": "Untitled3.ipynb",
      "provenance": [],
      "authorship_tag": "ABX9TyO+i1Z5DSmRmXKOCeWqa8Wr",
      "include_colab_link": true
    },
    "kernelspec": {
      "name": "python3",
      "display_name": "Python 3"
    }
  },
  "cells": [
    {
      "cell_type": "markdown",
      "metadata": {
        "id": "view-in-github",
        "colab_type": "text"
      },
      "source": [
        "<a href=\"https://colab.research.google.com/github/NurulZudin/Assignment007/blob/main/Assignment0074.ipynb\" target=\"_parent\"><img src=\"https://colab.research.google.com/assets/colab-badge.svg\" alt=\"Open In Colab\"/></a>"
      ]
    },
    {
      "cell_type": "code",
      "metadata": {
        "colab": {
          "base_uri": "https://localhost:8080/"
        },
        "id": "6I8Xtfb5wjiM",
        "outputId": "a1b70b0b-b240-4d1a-cb01-9d2c4a30c25c"
      },
      "source": [
        "number = \" \"\r\n",
        "while bool(number) > 0 :\r\n",
        "    number = input(\"Enter a positive integer in order to check if it is an prime number or not. If you want to stop checking just hit enter\")\r\n",
        "    if int(number) == 2:\r\n",
        "      print(f\"{number} is a prime number\")\r\n",
        "      break\r\n",
        "    else:\r\n",
        "      for i in range(2, int(number)):\r\n",
        "        if int(number) % i == 0 :\r\n",
        "          print(f\"{number} is not a prime number\")\r\n",
        "        else:\r\n",
        "          print(f\"{number} is a prime number\")\r\n",
        "        break\r\n",
        "      break"
      ],
      "execution_count": 4,
      "outputs": [
        {
          "output_type": "stream",
          "text": [
            "Enter a positive integer in order to check if it is an prime number or not. If you want to stop checking just hit enter19\n",
            "19 is a prime number\n"
          ],
          "name": "stdout"
        }
      ]
    }
  ]
}