{
  "nbformat": 4,
  "nbformat_minor": 0,
  "metadata": {
    "colab": {
      "name": "Untitled2.ipynb",
      "provenance": [],
      "authorship_tag": "ABX9TyP6aNum7cGXrLFM1PWJEnLC",
      "include_colab_link": true
    },
    "kernelspec": {
      "name": "python3",
      "display_name": "Python 3"
    }
  },
  "cells": [
    {
      "cell_type": "markdown",
      "metadata": {
        "id": "view-in-github",
        "colab_type": "text"
      },
      "source": [
        "<a href=\"https://colab.research.google.com/github/NurulZudin/Assignment007/blob/main/Letters%20Count0079.ipynb\" target=\"_parent\"><img src=\"https://colab.research.google.com/assets/colab-badge.svg\" alt=\"Open In Colab\"/></a>"
      ]
    },
    {
      "cell_type": "code",
      "metadata": {
        "id": "P3fBstTkNThU",
        "colab": {
          "base_uri": "https://localhost:8080/"
        },
        "outputId": "60ee639d-d981-478c-e1cf-65ab715e852c"
      },
      "source": [
        "letter_count = {}\r\n",
        "number = input('Please write a sentence :')\r\n",
        "for i in number:\r\n",
        "  letter_count[i]= (number.count(i))\r\n",
        "print(letter_count)"
      ],
      "execution_count": 9,
      "outputs": [
        {
          "output_type": "stream",
          "text": [
            "Please enter a sentence :hippo runs to us!\n",
            "{'h': 1, 'i': 1, 'p': 2, 'o': 2, ' ': 3, 'r': 1, 'u': 2, 'n': 1, 's': 2, 't': 1, '!': 1}\n"
          ],
          "name": "stdout"
        }
      ]
    }
  ]
}