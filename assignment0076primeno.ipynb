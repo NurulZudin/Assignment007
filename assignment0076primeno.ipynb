{
  "nbformat": 4,
  "nbformat_minor": 0,
  "metadata": {
    "colab": {
      "name": "Untitled2.ipynb",
      "provenance": [],
      "authorship_tag": "ABX9TyOqUCBGmDsNdLvml/VuTvBw",
      "include_colab_link": true
    },
    "kernelspec": {
      "name": "python3",
      "display_name": "Python 3"
    }
  },
  "cells": [
    {
      "cell_type": "markdown",
      "metadata": {
        "id": "view-in-github",
        "colab_type": "text"
      },
      "source": [
        "<a href=\"https://colab.research.google.com/github/NurulZudin/Assignment007/blob/main/assignment0076primeno.ipynb\" target=\"_parent\"><img src=\"https://colab.research.google.com/assets/colab-badge.svg\" alt=\"Open In Colab\"/></a>"
      ]
    },
    {
      "cell_type": "code",
      "metadata": {
        "id": "P3fBstTkNThU",
        "colab": {
          "base_uri": "https://localhost:8080/"
        },
        "outputId": "fddfb82e-a0fb-4a27-82c9-a2ef60af18ee"
      },
      "source": [
        "n = int(input(\"Enter the number : \"))\r\n",
        "\r\n",
        "prima = []\r\n",
        "\r\n",
        "for i in range(2, n + 1):\r\n",
        "    Notprima = False\r\n",
        "    for number in range(2,i):\r\n",
        "        if i % number == 0:\r\n",
        "            Notprima = True\r\n",
        "            break\r\n",
        "    if not Notprima:\r\n",
        "        prima.append(i)\r\n",
        "\r\n",
        "print(prima)\r\n"
      ],
      "execution_count": 3,
      "outputs": [
        {
          "output_type": "stream",
          "text": [
            "Enter the number : 100\n",
            "[2, 3, 5, 7, 11, 13, 17, 19, 23, 29, 31, 37, 41, 43, 47, 53, 59, 61, 67, 71, 73, 79, 83, 89, 97]\n"
          ],
          "name": "stdout"
        }
      ]
    },
    {
      "cell_type": "code",
      "metadata": {
        "id": "4QC9TgWvVp5o"
      },
      "source": [
        ""
      ],
      "execution_count": null,
      "outputs": []
    }
  ]
}