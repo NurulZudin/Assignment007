{
  "nbformat": 4,
  "nbformat_minor": 0,
  "metadata": {
    "colab": {
      "name": "Untitled2.ipynb",
      "provenance": [],
      "authorship_tag": "ABX9TyMj2O9ptktfcRRgeHhch3df",
      "include_colab_link": true
    },
    "kernelspec": {
      "name": "python3",
      "display_name": "Python 3"
    }
  },
  "cells": [
    {
      "cell_type": "markdown",
      "metadata": {
        "id": "view-in-github",
        "colab_type": "text"
      },
      "source": [
        "<a href=\"https://colab.research.google.com/github/NurulZudin/Assignment007/blob/main/Untitled2.ipynb\" target=\"_parent\"><img src=\"https://colab.research.google.com/assets/colab-badge.svg\" alt=\"Open In Colab\"/></a>"
      ]
    },
    {
      "cell_type": "code",
      "metadata": {
        "id": "Wq7YbsOFFRtP",
        "colab": {
          "base_uri": "https://localhost:8080/"
        },
        "outputId": "b5a691e0-e040-4a98-9609-30bc59c08df9"
      },
      "source": [
        "a = 36.5\r\n",
        "b = '30'\r\n",
        "c = '3.5'\r\n",
        "d = ' F is enough for room temperature.'\r\n",
        "\r\n",
        "print(str(a+int(b)+float(c))+d)"
      ],
      "execution_count": null,
      "outputs": [
        {
          "output_type": "stream",
          "text": [
            "70.0 F is enough for room temperature.\n"
          ],
          "name": "stdout"
        }
      ]
    },
    {
      "cell_type": "code",
      "metadata": {
        "colab": {
          "base_uri": "https://localhost:8080/"
        },
        "id": "TlCGtqWbOTVS",
        "outputId": "8abdce64-8357-462b-ec62-6461cbd3c682"
      },
      "source": [
        "name1 = \"Hamza\"\r\n",
        "Username = input(\"Please type your first name : \")\r\n",
        "\r\n",
        "if name1 == Username:\r\n",
        "    print(f\"Hello {name}  your password is 'earthquake88' \").title().strip()\r\n",
        "else:\r\n",
        "    print(f\"Hello {name} you are not registered as a user. Sorry, bye ! \")"
      ],
      "execution_count": 10,
      "outputs": [
        {
          "output_type": "stream",
          "text": [
            "Please type your first name : sam\n",
            "Hello Sam you are not registered as a user. Sorry, bye ! \n"
          ],
          "name": "stdout"
        }
      ]
    },
    {
      "cell_type": "code",
      "metadata": {
        "colab": {
          "base_uri": "https://localhost:8080/"
        },
        "id": "P3fBstTkNThU",
        "outputId": "43bc5da0-4805-4520-a75c-91c00a84cf08"
      },
      "source": [
        "name1 = \"Hamza\"\r\n",
        "Username = input(\"Please type your first name : \")\r\n",
        "\r\n",
        "if name1 == Username:\r\n",
        "    print(f\"Hello {name}! The password is : earthquake88 \").title().strip()\r\n",
        "else:\r\n",
        "    print(f\"Hello {Username}! See you later. \")"
      ],
      "execution_count": 18,
      "outputs": [
        {
          "output_type": "stream",
          "text": [
            "Please type your first name : helo\n",
            "Hello helo! See you later. \n"
          ],
          "name": "stdout"
        }
      ]
    },
    {
      "cell_type": "code",
      "metadata": {
        "colab": {
          "base_uri": "https://localhost:8080/",
          "height": 129
        },
        "id": "9Q0anyFLTqqK",
        "outputId": "ef94b5cb-4441-4263-85e4-5d823eaa5344"
      },
      "source": [
        "age = int(float((input(\"Please enter your age: \")))\r\n",
        "while type(age) != int:\r\n",
        "    print(\"You entered incorrectly\")"
      ],
      "execution_count": 1,
      "outputs": [
        {
          "output_type": "error",
          "ename": "SyntaxError",
          "evalue": "ignored",
          "traceback": [
            "\u001b[0;36m  File \u001b[0;32m\"<ipython-input-1-aa3cc290922b>\"\u001b[0;36m, line \u001b[0;32m2\u001b[0m\n\u001b[0;31m    while type(age) != int:\u001b[0m\n\u001b[0m        ^\u001b[0m\n\u001b[0;31mSyntaxError\u001b[0m\u001b[0;31m:\u001b[0m invalid syntax\n"
          ]
        }
      ]
    },
    {
      "cell_type": "code",
      "metadata": {
        "id": "ZyRCkugvT3Xi"
      },
      "source": [
        "while True:\r\n",
        "    age=input(\"Enter your age: \")\r\n",
        "    try:\r\n",
        "        int(age)\r\n",
        "        print(\"You entered valid input. Your age is:\", age)\r\n",
        "        break\r\n",
        "    except: print(\"You entered invalid age. Try again.\")"
      ],
      "execution_count": null,
      "outputs": []
    },
    {
      "cell_type": "code",
      "metadata": {
        "id": "o9OLplg4etQP"
      },
      "source": [
        "print([] )"
      ],
      "execution_count": null,
      "outputs": []
    }
  ]
}