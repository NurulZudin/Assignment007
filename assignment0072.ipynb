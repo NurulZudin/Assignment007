{
  "nbformat": 4,
  "nbformat_minor": 0,
  "metadata": {
    "colab": {
      "name": "Untitled1.ipynb",
      "provenance": [],
      "authorship_tag": "ABX9TyND6q/Tr/Fm/odNjYN+JNHx",
      "include_colab_link": true
    },
    "kernelspec": {
      "name": "python3",
      "display_name": "Python 3"
    }
  },
  "cells": [
    {
      "cell_type": "markdown",
      "metadata": {
        "id": "view-in-github",
        "colab_type": "text"
      },
      "source": [
        "<a href=\"https://colab.research.google.com/github/NurulZudin/Assignment007/blob/main/assignment0072.ipynb\" target=\"_parent\"><img src=\"https://colab.research.google.com/assets/colab-badge.svg\" alt=\"Open In Colab\"/></a>"
      ]
    },
    {
      "cell_type": "code",
      "metadata": {
        "colab": {
          "base_uri": "https://localhost:8080/"
        },
        "id": "RGCt7rlm9TFw",
        "outputId": "b97352f6-2e45-46a5-a044-89b1e8367365"
      },
      "source": [
        "print(\"Answer the following questions with 'Yes' or 'No' \")\r\n",
        "age = input(\"Are you a cigarette addict older than 75 years old?: \")\r\n",
        "chronic = input(\"Do you have a severe chronic disease?\")\r\n",
        "immune = input(\"Is your immune system too weak?\")\r\n",
        "if age == \"Yes\":\r\n",
        "    age = True\r\n",
        "else:\r\n",
        "    age = False\r\n",
        "if chronic == \"Yes\":\r\n",
        "    chronic = True\r\n",
        "else:\r\n",
        "    chronic = False\r\n",
        "if immune == \"Yes\":\r\n",
        "    immune = True\r\n",
        "else:\r\n",
        "    immune = False\r\n",
        "if age or chronic or immune:\r\n",
        "    print(\"You are in risky group\")\r\n",
        "else:\r\n",
        "    print(\"You are not in risky group\")"
      ],
      "execution_count": 1,
      "outputs": [
        {
          "output_type": "stream",
          "text": [
            "Answer the following questions with 'Yes' or 'No' \n",
            "Are you a cigarette addict older than 75 years old?: no\n",
            "Do you have a severe chronic disease?no\n",
            "Is your immune system too weak?yes\n",
            "You are not in risky group\n"
          ],
          "name": "stdout"
        }
      ]
    },
    {
      "cell_type": "code",
      "metadata": {
        "id": "7YxJsQHGNfAt"
      },
      "source": [
        ""
      ],
      "execution_count": null,
      "outputs": []
    }
  ]
}