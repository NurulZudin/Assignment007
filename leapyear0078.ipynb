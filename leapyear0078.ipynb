{
  "nbformat": 4,
  "nbformat_minor": 0,
  "metadata": {
    "colab": {
      "name": "Untitled2.ipynb",
      "provenance": [],
      "authorship_tag": "ABX9TyN2OiZowcFw6ExWqBj9Y4Ds",
      "include_colab_link": true
    },
    "kernelspec": {
      "name": "python3",
      "display_name": "Python 3"
    }
  },
  "cells": [
    {
      "cell_type": "markdown",
      "metadata": {
        "id": "view-in-github",
        "colab_type": "text"
      },
      "source": [
        "<a href=\"https://colab.research.google.com/github/NurulZudin/Assignment007/blob/main/leapyear0078.ipynb\" target=\"_parent\"><img src=\"https://colab.research.google.com/assets/colab-badge.svg\" alt=\"Open In Colab\"/></a>"
      ]
    },
    {
      "cell_type": "code",
      "metadata": {
        "id": "P3fBstTkNThU",
        "colab": {
          "base_uri": "https://localhost:8080/"
        },
        "outputId": "30b58e4e-24fb-4599-8b98-5337ada1cada"
      },
      "source": [
        "year =int(input('Enter a year :'))\r\n",
        "if (year%4==0 and year%100!=0) or year%400==0 :\r\n",
        "  print(year, 'is  a leap year')\r\n",
        "else:\r\n",
        "  print(year, 'is not  a leap year')"
      ],
      "execution_count": 7,
      "outputs": [
        {
          "output_type": "stream",
          "text": [
            "Enter a year :2020\n",
            "2020 is  a leap year\n"
          ],
          "name": "stdout"
        }
      ]
    },
    {
      "cell_type": "code",
      "metadata": {
        "id": "ptXbtyJEH_w9"
      },
      "source": [
        ""
      ],
      "execution_count": null,
      "outputs": []
    }
  ]
}