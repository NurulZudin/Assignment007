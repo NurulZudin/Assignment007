{
  "nbformat": 4,
  "nbformat_minor": 0,
  "metadata": {
    "colab": {
      "name": "Untitled2.ipynb",
      "provenance": [],
      "authorship_tag": "ABX9TyMWMLsyrmbeHRN3fSYKyuaN",
      "include_colab_link": true
    },
    "kernelspec": {
      "name": "python3",
      "display_name": "Python 3"
    }
  },
  "cells": [
    {
      "cell_type": "markdown",
      "metadata": {
        "id": "view-in-github",
        "colab_type": "text"
      },
      "source": [
        "<a href=\"https://colab.research.google.com/github/NurulZudin/Assignment007/blob/main/Assignment007/3Armstrong%20Number.ipynb\" target=\"_parent\"><img src=\"https://colab.research.google.com/assets/colab-badge.svg\" alt=\"Open In Colab\"/></a>"
      ]
    },
    {
      "cell_type": "code",
      "metadata": {
        "id": "P3fBstTkNThU",
        "colab": {
          "base_uri": "https://localhost:8080/"
        },
        "outputId": "2fbf817e-f625-45dd-b5ae-626793bfdcc4"
      },
      "source": [
        "userinput = input(\"Please enter a positive integer to check if Armstrong or not : \")\r\n",
        "while not userinput.isdigit()> 0:\r\n",
        "  print(\"Your input is invalid. Don't use non-numeric, float, or negative values!\")\r\n",
        "  userinput = input(\"Please enter a positive integer to check if Armstrong or not : \")\r\n",
        "split = [int(i) for i in str(userinput)]\r\n",
        "print(split)\r\n",
        "addsquare=0\r\n",
        "for x in split:\r\n",
        "  addsquare += x**len(split)\r\n",
        "  print(addsquare)\r\n",
        "if  (int(addsquare)==int(userinput)):\r\n",
        "  print(userinput, \"is an Armstrong number\")\r\n",
        "elif (int(addsquare) !=int(userinput)):\r\n",
        "  print(userinput, \"is not an Armstrong number\")"
      ],
      "execution_count": 2,
      "outputs": [
        {
          "output_type": "stream",
          "text": [
            "Please enter a positive integer to check if Armstrong or not : -15\n",
            "Your input is invalid. Don't use non-numeric, float, or negative values!\n",
            "Please enter a positive integer to check if Armstrong or not : 407\n",
            "[4, 0, 7]\n",
            "64\n",
            "64\n",
            "407\n",
            "407 is an Armstrong number\n"
          ],
          "name": "stdout"
        }
      ]
    }
  ]
}