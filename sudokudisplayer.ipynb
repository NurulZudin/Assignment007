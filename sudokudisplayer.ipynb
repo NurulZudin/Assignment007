{
  "nbformat": 4,
  "nbformat_minor": 0,
  "metadata": {
    "colab": {
      "name": "Untitled2.ipynb",
      "provenance": [],
      "authorship_tag": "ABX9TyPsP7g7pOyUjc5OPB2pj33Y",
      "include_colab_link": true
    },
    "kernelspec": {
      "name": "python3",
      "display_name": "Python 3"
    }
  },
  "cells": [
    {
      "cell_type": "markdown",
      "metadata": {
        "id": "view-in-github",
        "colab_type": "text"
      },
      "source": [
        "<a href=\"https://colab.research.google.com/github/NurulZudin/Assignment007/blob/main/sudokudisplayer.ipynb\" target=\"_parent\"><img src=\"https://colab.research.google.com/assets/colab-badge.svg\" alt=\"Open In Colab\"/></a>"
      ]
    },
    {
      "cell_type": "code",
      "metadata": {
        "id": "P3fBstTkNThU",
        "colab": {
          "base_uri": "https://localhost:8080/"
        },
        "outputId": "06e7083e-b203-4971-a11c-c1aa0f2908a4"
      },
      "source": [
        "sudoku = [\r\n",
        "    [0, 0, 0, 0, 6, 4, 0, 0, 0],\r\n",
        "    [7, 0, 0, 0, 0, 0, 3, 9, 0],\r\n",
        "    [8, 0, 0, 0, 0, 0, 0, 0, 0],\r\n",
        "    [0, 0, 0, 5, 0, 2, 0, 6, 0],\r\n",
        "    [0, 8, 0, 4, 0, 0, 0, 0, 0],\r\n",
        "    [3, 5, 0, 6, 0, 0, 0, 7, 0],\r\n",
        "    [0, 0, 2, 0, 0, 0, 1, 0, 3],\r\n",
        "    [0, 0, 1, 0, 5, 9, 0, 0, 0],\r\n",
        "    [0, 0, 0, 0, 0, 0, 7, 0, 0]\r\n",
        "]\r\n",
        "for index, line in enumerate(sudoku):\r\n",
        "    line.insert(3, \"|\")\r\n",
        "    line.insert(7, \"|\")\r\n",
        "    if index % 3 == 0:\r\n",
        "        print(\"- \" *11)\r\n",
        "    print(*i)\r\n",
        "print(\"- \"*11)"
      ],
      "execution_count": 4,
      "outputs": [
        {
          "output_type": "stream",
          "text": [
            "- - - - - - - - - - - \n",
            "0 0 0 | 0 0 0 | 7 0 0\n",
            "0 0 0 | 0 0 0 | 7 0 0\n",
            "0 0 0 | 0 0 0 | 7 0 0\n",
            "- - - - - - - - - - - \n",
            "0 0 0 | 0 0 0 | 7 0 0\n",
            "0 0 0 | 0 0 0 | 7 0 0\n",
            "0 0 0 | 0 0 0 | 7 0 0\n",
            "- - - - - - - - - - - \n",
            "0 0 0 | 0 0 0 | 7 0 0\n",
            "0 0 0 | 0 0 0 | 7 0 0\n",
            "0 0 0 | 0 0 0 | 7 0 0\n",
            "- - - - - - - - - - - \n"
          ],
          "name": "stdout"
        }
      ]
    }
  ]
}