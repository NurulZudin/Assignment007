{
  "nbformat": 4,
  "nbformat_minor": 0,
  "metadata": {
    "colab": {
      "name": "ifelse1.ipynb",
      "provenance": [],
      "authorship_tag": "ABX9TyNkjvdF/9S+i9NKXekDZcTT",
      "include_colab_link": true
    },
    "kernelspec": {
      "name": "python3",
      "display_name": "Python 3"
    }
  },
  "cells": [
    {
      "cell_type": "markdown",
      "metadata": {
        "id": "view-in-github",
        "colab_type": "text"
      },
      "source": [
        "<a href=\"https://colab.research.google.com/github/NurulZudin/Assignment007/blob/main/ifelse1.ipynb\" target=\"_parent\"><img src=\"https://colab.research.google.com/assets/colab-badge.svg\" alt=\"Open In Colab\"/></a>"
      ]
    },
    {
      "cell_type": "code",
      "metadata": {
        "colab": {
          "base_uri": "https://localhost:8080/"
        },
        "id": "P3fBstTkNThU",
        "outputId": "7aa1d178-c9fe-47da-ccd9-1e7d46e31fc0"
      },
      "source": [
        "name1 = 'Hamza'\r\n",
        "Username = input(\"Please type your first name : \").title().strip()\r\n",
        "\r\n",
        "if name1 == Username:\r\n",
        "    print(f\"Hello {name1}! The password is : earthquake88 \")\r\n",
        "else:\r\n",
        "    print(f\"Hello {Username}! See you later. \")"
      ],
      "execution_count": 33,
      "outputs": [
        {
          "output_type": "stream",
          "text": [
            "Please type your first name : testing\n",
            "Hello Testing! See you later. \n"
          ],
          "name": "stdout"
        }
      ]
    }
  ]
}