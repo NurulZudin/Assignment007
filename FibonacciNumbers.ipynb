{
  "nbformat": 4,
  "nbformat_minor": 0,
  "metadata": {
    "colab": {
      "name": "Untitled2.ipynb",
      "provenance": [],
      "authorship_tag": "ABX9TyPxvaMWRcqdgTUS1hcVdUEn",
      "include_colab_link": true
    },
    "kernelspec": {
      "name": "python3",
      "display_name": "Python 3"
    }
  },
  "cells": [
    {
      "cell_type": "markdown",
      "metadata": {
        "id": "view-in-github",
        "colab_type": "text"
      },
      "source": [
        "<a href=\"https://colab.research.google.com/github/NurulZudin/Assignment007/blob/main/FibonacciNumbers.ipynb\" target=\"_parent\"><img src=\"https://colab.research.google.com/assets/colab-badge.svg\" alt=\"Open In Colab\"/></a>"
      ]
    },
    {
      "cell_type": "code",
      "metadata": {
        "id": "PzZOdGMGtPaM",
        "colab": {
          "base_uri": "https://localhost:8080/"
        },
        "outputId": "e56daf7a-03b3-481b-cb2f-13dc863694f8"
      },
      "source": [
        "def fibnum(x):\r\n",
        "    result = []\r\n",
        "    a, b = 1, 1\r\n",
        "    while a < x:\r\n",
        "        result.append(a)            \r\n",
        "        a, b = b, a+b\r\n",
        "    return result\r\n",
        "fibonaccinum = fibnum(56)\r\n",
        "fibonaccinum"
      ],
      "execution_count": null,
      "outputs": [
        {
          "output_type": "execute_result",
          "data": {
            "text/plain": [
              "[1, 1, 2, 3, 5, 8, 13, 21, 34, 55]"
            ]
          },
          "metadata": {
            "tags": []
          },
          "execution_count": 7
        }
      ]
    },
    {
      "cell_type": "code",
      "metadata": {
        "id": "i_tp5rWfvGtJ"
      },
      "source": [
        ""
      ],
      "execution_count": null,
      "outputs": []
    }
  ]
}